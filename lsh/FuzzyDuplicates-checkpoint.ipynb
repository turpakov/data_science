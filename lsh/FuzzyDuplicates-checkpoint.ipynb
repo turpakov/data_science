{
 "cells": [
  {
   "cell_type": "code",
   "execution_count": 2,
   "metadata": {
    "scrolled": true
   },
   "outputs": [],
   "source": [
    "import os\n",
    "import numpy as np"
   ]
  },
  {
   "cell_type": "markdown",
   "metadata": {},
   "source": [
    "Первоначальные настройки"
   ]
  },
  {
   "cell_type": "code",
   "execution_count": 3,
   "metadata": {},
   "outputs": [],
   "source": [
    "directory_path = 'C:\\\\Users\\\\Сократ\\\\Desktop\\\\Учеба\\\\ООДБО'"
   ]
  },
  {
   "cell_type": "code",
   "execution_count": 60,
   "metadata": {},
   "outputs": [],
   "source": [
    "# Запускает функцию в отдельном потоке. В дальнейшем использую для проверки преждевременного цикла\n",
    "import threading\n",
    "def thread(my_func):\n",
    "    def wrapper(*args, **kwargs):\n",
    "        my_thread = threading.Thread(target=my_func, args=args, kwargs=kwargs)\n",
    "        my_thread.start()\n",
    "    return wrapper"
   ]
  },
  {
   "cell_type": "markdown",
   "metadata": {},
   "source": [
    "Для начала удалить из файла номер предложений"
   ]
  },
  {
   "cell_type": "code",
   "execution_count": 4,
   "metadata": {},
   "outputs": [],
   "source": [
    "def del_numbers(directory_path):\n",
    "    with open(os.path.join(directory_path,'sentences.txt'),'r',encoding='utf-8') as infile:\n",
    "        with open(os.path.join(directory_path,'sentences_without_numbers.txt'),'w',encoding='utf-8') as outfile:\n",
    "            lines = infile.readlines()\n",
    "            for line in lines:\n",
    "                outfile.write(line[line.index(' ')+1:])"
   ]
  },
  {
   "cell_type": "code",
   "execution_count": 11,
   "metadata": {},
   "outputs": [],
   "source": [
    "del_numbers(directory_path)"
   ]
  },
  {
   "cell_type": "markdown",
   "metadata": {},
   "source": [
    "Найдем среднюю длину предложения, среднюю длину слова и дисперсию длины предложения. Расчёт посимвольный"
   ]
  },
  {
   "cell_type": "code",
   "execution_count": 4,
   "metadata": {},
   "outputs": [],
   "source": [
    "def expectation_and_dispersion(directory_path):\n",
    "    with open(os.path.join(directory_path,'sentences_without_numbers.txt'),'r',encoding='utf-8') as file:\n",
    "        lines = file.read().split('\\n')\n",
    "        lines_lengthes = [len(line) for line in lines]\n",
    "        avg_line_lengthes = np.average(lines_lengthes)\n",
    "        std_line_lengthes = np.std(lines_lengthes)\n",
    "        del lines_lengthes\n",
    "        word_lenghtes = 0\n",
    "        cnt = 0\n",
    "        for line in lines:\n",
    "            words = line.split()\n",
    "            cnt += len(words)\n",
    "            word_lenghtes += sum(list(map(len,words)))\n",
    "        del words\n",
    "        del lines\n",
    "        avg_word_lenghtes = word_lenghtes/cnt\n",
    "    return avg_line_lengthes, std_line_lengthes, avg_word_lenghtes"
   ]
  },
  {
   "cell_type": "code",
   "execution_count": 27,
   "metadata": {},
   "outputs": [
    {
     "data": {
      "text/plain": [
       "(143.83983853184142, 139.69426000448036, 4.563143065758226)"
      ]
     },
     "execution_count": 27,
     "metadata": {},
     "output_type": "execute_result"
    }
   ],
   "source": [
    "expectation_and_dispersion(directory_path)"
   ]
  },
  {
   "cell_type": "markdown",
   "metadata": {},
   "source": [
    "Посчитаем среднее количество уникальных слов в предложениях"
   ]
  },
  {
   "cell_type": "code",
   "execution_count": 5,
   "metadata": {},
   "outputs": [],
   "source": [
    "def expectation_and_dispersion_for_words(directory_path):\n",
    "    with open(os.path.join(directory_path,'sentences_without_numbers.txt'),'r',encoding='utf-8') as file:\n",
    "        lines = file.read().split('\\n')\n",
    "        lines_lengthes = [len(np.unique(line.split(' '))) for line in lines]\n",
    "        avg_line_lengthes = np.average(lines_lengthes)\n",
    "        std_line_lengthes = np.std(lines_lengthes)\n",
    "        del lines_lengthes\n",
    "    return avg_line_lengthes, std_line_lengthes"
   ]
  },
  {
   "cell_type": "code",
   "execution_count": 66,
   "metadata": {},
   "outputs": [
    {
     "data": {
      "text/plain": [
       "(22.182542260187905, 15.129453994905676)"
      ]
     },
     "execution_count": 66,
     "metadata": {},
     "output_type": "execute_result"
    }
   ],
   "source": [
    "expectation_and_dispersion_for_words(directory_path)"
   ]
  },
  {
   "cell_type": "markdown",
   "metadata": {},
   "source": [
    "Функция, вычисляющая расстояние Левенштейна"
   ]
  },
  {
   "cell_type": "code",
   "execution_count": 4,
   "metadata": {},
   "outputs": [],
   "source": [
    "def Levenstein(a, b):\n",
    "    n, m = len(a), len(b)\n",
    "    if abs(n-m) > 1:\n",
    "        return False\n",
    "    if n > m:\n",
    "        # убедимся что n <= m, чтобы использовать минимум памяти O(min(n, m))\n",
    "        a, b = b, a\n",
    "        n, m = m, n\n",
    "    current_row = range(n + 1)  # 0 ряд - просто восходящая последовательность (одни вставки)\n",
    "    for i in range(1, m + 1):\n",
    "        previous_row, current_row = current_row, [i] + [0] * n\n",
    "        for j in range(1, n + 1):\n",
    "            add, delete, change = previous_row[j] + 1, current_row[j - 1] + 1, previous_row[j - 1]\n",
    "            if a[j - 1] != b[i - 1]:\n",
    "                change += 1\n",
    "            current_row[j] = min(add, delete, change)\n",
    "    if current_row[n] > 1:\n",
    "        return False\n",
    "    return True"
   ]
  },
  {
   "cell_type": "code",
   "execution_count": 36,
   "metadata": {},
   "outputs": [],
   "source": [
    "# from functools import lru_cache\n",
    "\n",
    "# def Levenstein(sentence1, sentence2):\n",
    "#     if abs(len(sentence1)-len(sentence2)) > 1:\n",
    "#         return 2\n",
    "#     @lru_cache(maxsize = len(sentence1) * len(sentence2))\n",
    "#     def recursive(i, j):\n",
    "#         if i == 0 or j == 0:\n",
    "#             return max(i,j)\n",
    "#         elif sentence1[i-1] == sentence2[j-1]:\n",
    "#             return recursive(i-1, j-1)\n",
    "#         else:\n",
    "#             return 1 + min(recursive(i,j-1),recursive(i-1,j),recursive(i-1,j-1))\n",
    "#     return recursive(len(sentence1),len(sentence2))\n",
    "\n",
    "# def BoolLev(a):\n",
    "#     return a == 1 or a == 0"
   ]
  },
  {
   "cell_type": "markdown",
   "metadata": {},
   "source": [
    "Функция, вычисляющая меру Жаккарда"
   ]
  },
  {
   "cell_type": "code",
   "execution_count": 7,
   "metadata": {},
   "outputs": [],
   "source": [
    "def Jaccard(set1,set2):\n",
    "    return len(set1.intersection(set2))/len(set1.union(set2))"
   ]
  },
  {
   "cell_type": "markdown",
   "metadata": {},
   "source": [
    "Возьмем выборку из 1000 предложений и найдем число нечетких дубликатов в этой выборке"
   ]
  },
  {
   "cell_type": "code",
   "execution_count": 8,
   "metadata": {},
   "outputs": [],
   "source": [
    "from tqdm import tqdm\n",
    "def estimating_number_duplicates(directory_path,estimates_len):\n",
    "    with open(os.path.join(directory_path,'sentences_without_numbers.txt'), 'r', encoding='utf-8') as file:\n",
    "        sentences = file.read().split('\\n')\n",
    "    random_numbers = np.random.randint(0, 9397023, estimates_len)\n",
    "    count = 0\n",
    "    for i in tqdm(range(estimates_len)):\n",
    "        j = random_numbers[i]\n",
    "        line = sentences[j]\n",
    "        s = i + 1\n",
    "        while s % estimates_len != i:\n",
    "            s += 1\n",
    "            line2 = sentences[random_numbers[s%estimates_len]]\n",
    "            if Levenstein(line,line2):\n",
    "                count += 1\n",
    "    return count"
   ]
  },
  {
   "cell_type": "code",
   "execution_count": 25,
   "metadata": {},
   "outputs": [
    {
     "name": "stderr",
     "output_type": "stream",
     "text": [
      "100%|██████████████████████████████████████████████████████████████████████████████| 1000/1000 [01:54<00:00,  8.74it/s]\n"
     ]
    },
    {
     "data": {
      "text/plain": [
       "1004"
      ]
     },
     "execution_count": 25,
     "metadata": {},
     "output_type": "execute_result"
    }
   ],
   "source": [
    "estimating_number_duplicates(directory_path,1000)"
   ]
  },
  {
   "cell_type": "markdown",
   "metadata": {},
   "source": [
    "Оценим число пар точных дубликатов, нечетких дубликатов по мере Жаккарда, по расстоянию Левенштейна"
   ]
  },
  {
   "cell_type": "code",
   "execution_count": 9,
   "metadata": {},
   "outputs": [],
   "source": [
    "def count_pairs(directory_path):\n",
    "    with open(os.path.join(directory_path,'sentences_without_numbers.txt'), 'r', encoding='utf-8') as file:\n",
    "        sentences = file.read().split('\\n')\n",
    "    Jaccard_ = []\n",
    "    N_sample_pairs = count_ = 0\n",
    "    while count_ != 100:\n",
    "        k = np.random.randint(0,len(sentences)-1)\n",
    "        l = np.random.randint(0,len(sentences)-1)\n",
    "        if k == l:\n",
    "            continue\n",
    "        N_sample_pairs += 1\n",
    "        s = Jaccard(set(sentences[k].split(' ')),set(sentences[l].split(' ')))\n",
    "        Jaccard_.append(s)\n",
    "        if s > 0.8:\n",
    "            count_ += 1\n",
    "#             new_list_without_duplicate.append([sentences[k],sentences[l]])\n",
    "    return N_sample_pairs, Jaccard_"
   ]
  },
  {
   "cell_type": "code",
   "execution_count": 329,
   "metadata": {},
   "outputs": [
    {
     "data": {
      "text/plain": [
       "440213473"
      ]
     },
     "execution_count": 329,
     "metadata": {},
     "output_type": "execute_result"
    }
   ],
   "source": [
    "# new_list_without_duplicate,count = count_pairs(directory_path)\n",
    "N_sample_pairs,Jaccard_ = count_pairs(directory_path)\n",
    "int(100/N_sample_pairs*9397023*9397022/2)"
   ]
  },
  {
   "cell_type": "code",
   "execution_count": 330,
   "metadata": {},
   "outputs": [
    {
     "data": {
      "text/plain": [
       "10029683"
      ]
     },
     "execution_count": 330,
     "metadata": {},
     "output_type": "execute_result"
    }
   ],
   "source": [
    "N_sample_pairs"
   ]
  },
  {
   "cell_type": "markdown",
   "metadata": {},
   "source": [
    "Выведем гистограмму распределения меры Жаккарда для оценки s_min"
   ]
  },
  {
   "cell_type": "code",
   "execution_count": 5,
   "metadata": {},
   "outputs": [],
   "source": [
    "import matplotlib.pyplot as plt"
   ]
  },
  {
   "cell_type": "code",
   "execution_count": 11,
   "metadata": {},
   "outputs": [],
   "source": [
    "def make_hist(Jaccard_):\n",
    "    hist, bins = np.histogram(Jaccard_, bins=20)\n",
    "    width = 0.7 * (bins[1] - bins[0])\n",
    "    center = (bins[:-1] + bins[1:]) / 2\n",
    "    plt.bar(center,hist,align='center',width=width)\n",
    "    plt.show()"
   ]
  },
  {
   "cell_type": "code",
   "execution_count": 47,
   "metadata": {},
   "outputs": [
    {
     "data": {
      "image/png": "[encoded data removed]",
      "text/plain": [
       "<Figure size 432x288 with 1 Axes>"
      ]
     },
     "metadata": {
      "needs_background": "light"
     },
     "output_type": "display_data"
    }
   ],
   "source": [
    "make_hist(Jaccard_)"
   ]
  },
  {
   "cell_type": "code",
   "execution_count": null,
   "metadata": {},
   "outputs": [],
   "source": [
    "sum([int(i) for i in np.array(Jaccard_)>=0.2])/len(Jaccard_)"
   ]
  },
  {
   "cell_type": "markdown",
   "metadata": {},
   "source": [
    "Отсюда можем сделать вывод, что оценка s_min = 0.2"
   ]
  },
  {
   "cell_type": "markdown",
   "metadata": {},
   "source": [
    "C учётом того, что минимальное число слов в предолжении 10, то можем оценить s_max с учётом расстояния Левенштейна 1  \n",
    "|S1 intersect S2|/|S1 union S2| = 9/11 >= 0.81  \n",
    "s_max = 0.8"
   ]
  },
  {
   "cell_type": "markdown",
   "metadata": {},
   "source": [
    "# Итак, s_min = 0.2, s_max = 0.8"
   ]
  },
  {
   "cell_type": "markdown",
   "metadata": {},
   "source": [
    "Выведем число нечетких дубликатов из 100 найденых пар по мере Жаккарда"
   ]
  },
  {
   "cell_type": "code",
   "execution_count": 25,
   "metadata": {},
   "outputs": [
    {
     "data": {
      "text/plain": [
       "2"
      ]
     },
     "execution_count": 25,
     "metadata": {},
     "output_type": "execute_result"
    }
   ],
   "source": [
    "count_fuzzy = 0\n",
    "for j in new_list_without_duplicate:\n",
    "    if j[0] != j[1]:\n",
    "        count_fuzzy += 1\n",
    "count_fuzzy"
   ]
  },
  {
   "cell_type": "markdown",
   "metadata": {},
   "source": [
    "Посчитаем число точных дубликатов"
   ]
  },
  {
   "cell_type": "code",
   "execution_count": 13,
   "metadata": {},
   "outputs": [],
   "source": [
    "def exact_duplicates_count(directory_path):\n",
    "    exact_duplicates_counter = dict()\n",
    "    with open(os.path.join(directory_path,'sentences_without_numbers.txt'), 'r', encoding='utf-8') as file:\n",
    "        sentences = file.read().split('\\n')\n",
    "    for sentence in sentences:\n",
    "        exact_duplicates_counter[sentence] = exact_duplicates_counter.get(sentence,-1) + 1\n",
    "    sentences_without_exact_duplicates = list(set(sentences))\n",
    "    exact_duplicates_count_ = 0\n",
    "    with open(os.path.join(directory_path,'sentences_without_duplicates.txt'), 'w', encoding='utf-8') as file:\n",
    "        length_ = len(sentences_without_exact_duplicates)\n",
    "        for i,sentence in enumerate(sentences_without_exact_duplicates):\n",
    "            if i != length_-1:\n",
    "                file.write(sentence + '\\n')\n",
    "            else:\n",
    "                file.write(sentence)\n",
    "            buff = exact_duplicates_counter[sentence]\n",
    "            exact_duplicates_count_ += (buff + 1) * buff / 2\n",
    "    return sentences_without_exact_duplicates,exact_duplicates_count_"
   ]
  },
  {
   "cell_type": "code",
   "execution_count": 84,
   "metadata": {},
   "outputs": [
    {
     "data": {
      "text/plain": [
       "426873920.0"
      ]
     },
     "execution_count": 84,
     "metadata": {},
     "output_type": "execute_result"
    }
   ],
   "source": [
    "sentences_without_exact_duplicates,exact_duplicates_count_ = exact_duplicates_count(directory_path)\n",
    "exact_duplicates_count_"
   ]
  },
  {
   "cell_type": "markdown",
   "metadata": {},
   "source": [
    "Путем построения графиков онлайн, находим точку пересечения уравнений  \n",
    "(1-0.2^r)^b >= 0.9999  \n",
    "(1-0.8^r)^b <= 0.0001  \n",
    "r=8.183, b= 52.447  \n",
    "Берме целые, получаем r=9, b=64(чтобы удовлетворяло неравенствам) - это такие r и b, что r*b -> min\n",
    "(если s_max = 0.9, то r = 8, b = 17)  \n",
    "r = 6, b = 69, чтобы сделать следущее: в качестве кандидатов попадут около 0.4% пар с мерой Жаккарда меньше 0.2, и около 10^(-9) пар с мерой Жаккарда 0.8 будут пропущены (при r = 5, b= 55 будет около 2% для 1 случая и cтолько же для второго)"
   ]
  },
  {
   "cell_type": "code",
   "execution_count": 6,
   "metadata": {},
   "outputs": [
    {
     "data": {
      "image/png": "[encoded data removed]",
      "text/plain": [
       "<Figure size 432x288 with 1 Axes>"
      ]
     },
     "metadata": {
      "needs_background": "light"
     },
     "output_type": "display_data"
    },
    {
     "name": "stdout",
     "output_type": "stream",
     "text": [
      "F( 0.8 ) =  0.9999999996713893\n",
      "F( 0.2 ) =  0.017448792103900157\n"
     ]
    }
   ],
   "source": [
    "r = 5\n",
    "b = 55\n",
    "\n",
    "s_max = 0.8\n",
    "s_min = 0.2\n",
    "\n",
    "s = np.arange(0,1,0.01)\n",
    "plt.plot(s, 1-(1-s ** r) ** b)\n",
    "plt.grid(True)\n",
    "plt.show()\n",
    "\n",
    "print('F(',s_max,') = ', 1-(1-s_max ** r) ** b)\n",
    "print('F(',s_min,') = ', 1-(1-s_min ** r) ** b)"
   ]
  },
  {
   "cell_type": "markdown",
   "metadata": {},
   "source": [
    "Создадим json-файл, в котором ключом являются предложение, а значение - количество раз, сколько оно встречается"
   ]
  },
  {
   "cell_type": "code",
   "execution_count": 22,
   "metadata": {},
   "outputs": [],
   "source": [
    "import json\n",
    "def exact_duplicates_count(directory_path):\n",
    "    with open(os.path.join(directory_path,'sentences_without_numbers.txt'), 'r', encoding='utf-8') as file:\n",
    "        sentences = file.read().split('\\n')\n",
    "    exact_duplicates_counter = dict()\n",
    "    for sentence in sentences:\n",
    "        exact_duplicates_counter[sentence] = exact_duplicates_counter.get(sentence,0) + 1\n",
    "    with open('exact_duplicates_count.json', 'w') as file:\n",
    "        json.dump(exact_duplicates_counter,file)\n",
    "exact_duplicates_count(directory_path)"
   ]
  },
  {
   "cell_type": "markdown",
   "metadata": {},
   "source": [
    "Первый пробный вариант построения матрицы minhash сигнатур(далее был отвергнут в пользу более эффективного способа построения)"
   ]
  },
  {
   "cell_type": "code",
   "execution_count": null,
   "metadata": {},
   "outputs": [],
   "source": [
    "import json\n",
    "from tqdm import tqdm\n",
    "with open(os.path.join(directory_path,'sentences_without_duplicates.txt'), 'r', encoding='utf-8') as file:\n",
    "    sentences = file.read().split('\\n')\n",
    "# hash_signatures = []\n",
    "for i,sentence in tqdm(enumerate(sentences)):\n",
    "    words = sentence.split(' ')\n",
    "    min_hash = [float('inf')] * (r*b)\n",
    "    for id_hash in range(r*b):\n",
    "        for j,word in enumerate(words):\n",
    "            cur_hash = abs(hash(word + str(id_hash)))\n",
    "            min_hash[id_hash] = min(cur_hash, min_hash[id_hash])\n",
    "    min_hash = list(zip(*[iter(min_hash)]*r)) #преобразовываем в блоки\n",
    "#     hash_signatures.append({i:min_hash})\n",
    "    with open(f'minhash_stb\\\\minhash_matrix_{i}.json', 'w') as file:\n",
    "        json.dump({i:min_hash},file,indent=4)\n"
   ]
  },
  {
   "cell_type": "markdown",
   "metadata": {},
   "source": [
    "Тот самый, наиболее эффективный вариант построения матрицы minhash сигнатур.  \n",
    "Эту реализацию можно распараллелить на максимум (b) компьютеров, затем собрать выходные результаты в один файл, после чего удалить повторы из итогового файла."
   ]
  },
  {
   "cell_type": "code",
   "execution_count": 64,
   "metadata": {
    "scrolled": true
   },
   "outputs": [],
   "source": [
    "import json\n",
    "from tqdm import tqdm\n",
    "def write_txt():\n",
    "    with open(os.path.join(directory_path,'sentences_without_duplicates.txt'), 'r', encoding='utf-8') as file:\n",
    "        sentences = file.read().split('\\n')\n",
    "    length_ = len(sentences)\n",
    "    for id_block in range(b):\n",
    "        fuzzy_duplicates_dict = dict()\n",
    "        for i,sentence in enumerate(tqdm(sentences)):\n",
    "            min_hash = [float('inf')] * r\n",
    "            words = sentence.split()\n",
    "            for id_row in range(r):\n",
    "                for j,word in enumerate(words):\n",
    "                    cur_hash = abs(hash(word + str(id_block*r + id_row)))\n",
    "                    min_hash[id_row] = min(cur_hash, min_hash[id_row])\n",
    "            buff = fuzzy_duplicates_dict.get(''.join(map(str,min_hash)))\n",
    "            if buff:\n",
    "                with open('result_only_fuzzy_duplicates.txt','a',encoding='utf-8') as wf:\n",
    "                    for el in fuzzy_duplicates_dict[''.join(map(str,min_hash))]:\n",
    "                        if Levenstein(sentences[el].split(), sentences[i].split()):\n",
    "                            wf.write(f'{el}, {i}\\n')\n",
    "                fuzzy_duplicates_dict[''.join(map(str,min_hash))].append(i)\n",
    "            else:\n",
    "                fuzzy_duplicates_dict[''.join(map(str,min_hash))] = [i]"
   ]
  },
  {
   "cell_type": "code",
   "execution_count": 65,
   "metadata": {},
   "outputs": [
    {
     "name": "stderr",
     "output_type": "stream",
     "text": [
      "100%|██████████████████████████████████████████████████████████████████████| 4936186/4936186 [25:05<00:00, 3277.92it/s]\n",
      "100%|██████████████████████████████████████████████████████████████████████| 4936186/4936186 [11:58<00:00, 6867.89it/s]\n",
      "100%|██████████████████████████████████████████████████████████████████████| 4936186/4936186 [14:40<00:00, 5607.05it/s]\n",
      "100%|██████████████████████████████████████████████████████████████████████| 4936186/4936186 [10:40<00:00, 7704.95it/s]\n",
      "100%|██████████████████████████████████████████████████████████████████████| 4936186/4936186 [15:26<00:00, 5324.97it/s]\n",
      "100%|██████████████████████████████████████████████████████████████████████| 4936186/4936186 [34:04<00:00, 2414.59it/s]\n",
      "100%|██████████████████████████████████████████████████████████████████████| 4936186/4936186 [18:47<00:00, 4379.53it/s]\n",
      "100%|██████████████████████████████████████████████████████████████████████| 4936186/4936186 [12:47<00:00, 6434.65it/s]\n",
      "100%|██████████████████████████████████████████████████████████████████████| 4936186/4936186 [11:37<00:00, 7073.25it/s]\n",
      "100%|██████████████████████████████████████████████████████████████████████| 4936186/4936186 [14:35<00:00, 5638.09it/s]\n",
      "100%|██████████████████████████████████████████████████████████████████████| 4936186/4936186 [12:35<00:00, 6533.31it/s]\n",
      "100%|██████████████████████████████████████████████████████████████████████| 4936186/4936186 [16:07<00:00, 5102.14it/s]\n",
      "100%|██████████████████████████████████████████████████████████████████████| 4936186/4936186 [21:21<00:00, 3851.73it/s]\n",
      "100%|██████████████████████████████████████████████████████████████████████| 4936186/4936186 [25:48<00:00, 3187.66it/s]\n",
      "100%|██████████████████████████████████████████████████████████████████████| 4936186/4936186 [10:08<00:00, 8107.07it/s]\n",
      "100%|██████████████████████████████████████████████████████████████████████| 4936186/4936186 [18:21<00:00, 4483.05it/s]\n",
      "100%|██████████████████████████████████████████████████████████████████████| 4936186/4936186 [12:18<00:00, 6682.13it/s]\n",
      "100%|██████████████████████████████████████████████████████████████████████| 4936186/4936186 [16:30<00:00, 4983.08it/s]\n",
      "100%|██████████████████████████████████████████████████████████████████████| 4936186/4936186 [10:34<00:00, 7782.63it/s]\n",
      "100%|██████████████████████████████████████████████████████████████████████| 4936186/4936186 [16:10<00:00, 5083.99it/s]\n"
     ]
    }
   ],
   "source": [
    "write_txt()"
   ]
  },
  {
   "cell_type": "markdown",
   "metadata": {},
   "source": [
    "Для пробы взяли случайную пару из результата и убедились, что предложения действительно являются нечёткими дубликатами"
   ]
  },
  {
   "cell_type": "code",
   "execution_count": 46,
   "metadata": {},
   "outputs": [
    {
     "name": "stdout",
     "output_type": "stream",
     "text": [
      "c windows microsoft net framework64 v2 0 50727 temporary asp net files staffschedule a84869ab 2a94137d app code gmabzhrb 30 vb\n",
      "c windows microsoft net framework64 v2 0 50727 temporary asp net files staffschedule a84869ab 2a94137d app code gmabzhrb 5 vb\n"
     ]
    }
   ],
   "source": [
    "print(sentences[9528], sentences[17050], sep='\\n')"
   ]
  },
  {
   "cell_type": "markdown",
   "metadata": {},
   "source": [
    "Объединение файлов после распределенных вычислений"
   ]
  },
  {
   "cell_type": "code",
   "execution_count": 8,
   "metadata": {},
   "outputs": [],
   "source": [
    "names = ['andrey','nikita','daniel']\n",
    "with open(os.path.join(directory_path,'result_only_fuzzy_duplicates.txt'), 'w', encoding='utf-8') as outfile:\n",
    "    for name in names:\n",
    "        with open(os.path.join(directory_path,f'result_only_fuzzy_duplicates_{name}.txt'), 'r', encoding='utf-8') as file:\n",
    "            numbers = file.read().split('\\n')\n",
    "            for el in numbers[:-1]:\n",
    "                outfile.write(el + '\\n')\n",
    "            outfile.write(el)"
   ]
  },
  {
   "cell_type": "markdown",
   "metadata": {},
   "source": [
    "Непосредственная процедура удаления повторов из файла после распределенных вычислений"
   ]
  },
  {
   "cell_type": "code",
   "execution_count": 8,
   "metadata": {},
   "outputs": [
    {
     "name": "stdout",
     "output_type": "stream",
     "text": [
      "old 3009073\n",
      "new 170125\n"
     ]
    }
   ],
   "source": [
    "with open(os.path.join(directory_path,'result_only_fuzzy_duplicates.txt'), 'r', encoding='utf-8') as file:\n",
    "    numbers = file.read().split('\\n')\n",
    "print(\"old\", len(numbers))\n",
    "numbers = list(set(numbers))\n",
    "print(\"new\", len(numbers))"
   ]
  },
  {
   "cell_type": "markdown",
   "metadata": {},
   "source": [
    "Запись уникалных пар нечетких дубликатов в новый файл (их номеров)"
   ]
  },
  {
   "cell_type": "code",
   "execution_count": 9,
   "metadata": {},
   "outputs": [],
   "source": [
    "with open(os.path.join(directory_path,'result_only_fuzzy_clean_duplicates.txt'), 'w', encoding='utf-8') as file:\n",
    "    for line in numbers[:-1]:\n",
    "        file.write(line +'\\n')\n",
    "    file.write(line)"
   ]
  },
  {
   "cell_type": "markdown",
   "metadata": {},
   "source": [
    "Исходя из вышесоставленного файла result_only_fuzzy_clean_duplicates.txt (с номерами пар предложений, которые являются нечеткими дубликатами); по номерам предложений достаем предложения и в словаре exact_duplicates_count.json забираем число четких дубликатов каждого из предложений. Пояснение: если у пары нет четких дубликатов - то вернет 1  \n",
    "P.S. число 426873920 взято из ранее подсчитанного числа четких дубликатов"
   ]
  },
  {
   "cell_type": "code",
   "execution_count": 5,
   "metadata": {},
   "outputs": [
    {
     "data": {
      "text/plain": [
       "429801653"
      ]
     },
     "execution_count": 5,
     "metadata": {},
     "output_type": "execute_result"
    }
   ],
   "source": [
    "import json\n",
    "with open(os.path.join(directory_path,'exact_duplicates_count.json'), 'r', encoding='utf-8') as file:\n",
    "    exact_duplicates_counter = json.load(file)\n",
    "with open(os.path.join(directory_path,'sentences_without_duplicates.txt'), 'r', encoding='utf-8') as file:\n",
    "    sentences = file.read().split('\\n')\n",
    "with open(os.path.join(directory_path,'result_only_fuzzy_clean_duplicates.txt'), 'r', encoding='utf-8') as file:\n",
    "    fuzzy_duplicates = file.read().split('\\n')\n",
    "fuzzy_duplicates_count_result = 426873920\n",
    "for fuzzy_dupl in fuzzy_duplicates:\n",
    "    fuzzy_dupl = fuzzy_dupl.split(',')\n",
    "    fuzzy_duplicates_count_result += exact_duplicates_counter[sentences[int(fuzzy_dupl[0])]] * exact_duplicates_counter[sentences[int(fuzzy_dupl[1])]]\n",
    "fuzzy_duplicates_count_result"
   ]
  },
  {
   "cell_type": "markdown",
   "metadata": {},
   "source": [
    "Выведем число пар только нечетких дубликатов"
   ]
  },
  {
   "cell_type": "code",
   "execution_count": 6,
   "metadata": {},
   "outputs": [
    {
     "data": {
      "text/plain": [
       "2927733"
      ]
     },
     "execution_count": 6,
     "metadata": {},
     "output_type": "execute_result"
    }
   ],
   "source": [
    "diff = fuzzy_duplicates_count_result - 426873920\n",
    "diff"
   ]
  }
 ],
 "metadata": {
  "kernelspec": {
   "display_name": "Python 3",
   "language": "python",
   "name": "python3"
  },
  "language_info": {
   "codemirror_mode": {
    "name": "ipython",
    "version": 3
   },
   "file_extension": ".py",
   "mimetype": "text/x-python",
   "name": "python",
   "nbconvert_exporter": "python",
   "pygments_lexer": "ipython3",
   "version": "3.7.4"
  }
 },
 "nbformat": 4,
 "nbformat_minor": 5
}
